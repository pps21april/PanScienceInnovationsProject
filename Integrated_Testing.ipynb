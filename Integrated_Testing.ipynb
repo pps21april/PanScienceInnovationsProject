{
  "nbformat": 4,
  "nbformat_minor": 0,
  "metadata": {
    "colab": {
      "provenance": [],
      "gpuType": "T4",
      "authorship_tag": "ABX9TyPpoo7rS9nhz09jLOju7HVR",
      "include_colab_link": true
    },
    "kernelspec": {
      "name": "python3",
      "display_name": "Python 3"
    },
    "language_info": {
      "name": "python"
    },
    "accelerator": "GPU"
  },
  "cells": [
    {
      "cell_type": "markdown",
      "metadata": {
        "id": "view-in-github",
        "colab_type": "text"
      },
      "source": [
        "<a href=\"https://colab.research.google.com/github/pps21april/PanScienceInnovationsProject/blob/main/Integrated_Testing.ipynb\" target=\"_parent\"><img src=\"https://colab.research.google.com/assets/colab-badge.svg\" alt=\"Open In Colab\"/></a>"
      ]
    },
    {
      "cell_type": "code",
      "source": [
        "%pip install langchain_community\n",
        "%pip install langchain_experimental\n",
        "%pip install langchain-openai\n",
        "%pip install langchain"
      ],
      "metadata": {
        "id": "iddQeGmKV-7l"
      },
      "execution_count": null,
      "outputs": []
    },
    {
      "cell_type": "code",
      "source": [
        "from google.colab import userdata\n"
      ],
      "metadata": {
        "id": "66-g2BmD8GXM"
      },
      "execution_count": null,
      "outputs": []
    },
    {
      "cell_type": "code",
      "source": [
        "%pip install PyPDF2"
      ],
      "metadata": {
        "id": "xDKfba5g7374",
        "colab": {
          "base_uri": "https://localhost:8080/"
        },
        "outputId": "308521cc-31c3-483e-ae5c-0fdd818afac7"
      },
      "execution_count": null,
      "outputs": [
        {
          "output_type": "stream",
          "name": "stdout",
          "text": [
            "Collecting PyPDF2\n",
            "  Downloading pypdf2-3.0.1-py3-none-any.whl.metadata (6.8 kB)\n",
            "Downloading pypdf2-3.0.1-py3-none-any.whl (232 kB)\n",
            "\u001b[?25l   \u001b[90m━━━━━━━━━━━━━━━━━━━━━━━━━━━━━━━━━━━━━━━━\u001b[0m \u001b[32m0.0/232.6 kB\u001b[0m \u001b[31m?\u001b[0m eta \u001b[36m-:--:--\u001b[0m\r\u001b[2K   \u001b[90m━━━━━━━━━━━━━━━━━━━━━━━━━━━━━━━━━━━━━━━━\u001b[0m \u001b[32m232.6/232.6 kB\u001b[0m \u001b[31m9.5 MB/s\u001b[0m eta \u001b[36m0:00:00\u001b[0m\n",
            "\u001b[?25hInstalling collected packages: PyPDF2\n",
            "Successfully installed PyPDF2-3.0.1\n"
          ]
        }
      ]
    },
    {
      "cell_type": "code",
      "source": [
        "import os\n",
        "from langchain_openai import ChatOpenAI, OpenAIEmbeddings\n",
        "from langchain_community.vectorstores import Chroma\n",
        "from langchain_experimental.text_splitter import SemanticChunker\n",
        "import PyPDF2"
      ],
      "metadata": {
        "id": "8gO9qGx3AsKb"
      },
      "execution_count": null,
      "outputs": []
    },
    {
      "cell_type": "code",
      "source": [
        "from google.colab import userdata"
      ],
      "metadata": {
        "id": "s7JkFh1c8qTA"
      },
      "execution_count": null,
      "outputs": []
    },
    {
      "cell_type": "code",
      "source": [
        "from langchain.prompts import PromptTemplate\n",
        "from langchain.schema import Document\n",
        "import sqlite3\n",
        "import json"
      ],
      "metadata": {
        "id": "I3h8YmD4fZUE"
      },
      "execution_count": null,
      "outputs": []
    },
    {
      "cell_type": "code",
      "source": [
        "def upload_documents(documents_folder_path):\n",
        "    file_names = os.listdir(documents_folder_path)\n",
        "    documents = []\n",
        "    for filename in file_names:\n",
        "        text = \"\"\n",
        "        file_path = os.path.join(documents_folder_path, filename)\n",
        "        if filename.endswith(\".pdf\"):\n",
        "            with open(file_path, 'rb') as file:\n",
        "                pdf_reader = PyPDF2.PdfReader(file)\n",
        "                for page_num in range(len(pdf_reader.pages)):\n",
        "                    page = pdf_reader.pages[page_num]\n",
        "                    text += page.extract_text()\n",
        "                    formatted_text = text.replace(\"\\n\", \" \")\n",
        "                    text_splitter = SemanticChunker(OpenAIEmbeddings(api_key=userdata.get(\"OPENAI_API_KEY\")))\n",
        "                    chunks = text_splitter.split_text(formatted_text)\n",
        "                    for chunk in chunks:\n",
        "                        doc = Document(page_content=chunk, metadata={\"source\": filename})\n",
        "                        documents.append(doc)\n",
        "\n",
        "    return documents"
      ],
      "metadata": {
        "id": "AYHuFEocYsLV"
      },
      "execution_count": null,
      "outputs": []
    },
    {
      "cell_type": "code",
      "source": [
        "def store_embeddings_create_retriever(documents_folder_path):\n",
        "    embedding_function = OpenAIEmbeddings(model=\"text-embedding-ada-002\",\n",
        "                                      openai_api_key=userdata.get(\"OPENAI_API_KEY\"))\n",
        "    documents = upload_documents(documents_folder_path)\n",
        "    vector_store = Chroma.from_documents(documents = documents,embedding = embedding_function)\n",
        "    retriever = vector_store.as_retriever()\n",
        "    return retriever"
      ],
      "metadata": {
        "id": "AfR1tu_Tdu4m"
      },
      "execution_count": null,
      "outputs": []
    },
    {
      "cell_type": "code",
      "source": [
        "def answering_user_queries(documents_folder_path,query):\n",
        "    llm = ChatOpenAI(model_name=\"gpt-4o-mini\", api_key=userdata.get(\"OPENAI_API_KEY\"))\n",
        "    retriever = store_embeddings_create_retriever(documents_folder_path)\n",
        "    relevant_text = retriever.get_relevant_documents(query)\n",
        "\n",
        "    prompt_template = \"\"\"\n",
        "    Answer user queries based on the context given in the documents below. Answers should be relevant,concise and relevant to the\n",
        "    context . Return only the answer and nothing else. Always include sources of answer\n",
        "    context : {context}\n",
        "    query : {query}\n",
        "    \"\"\"\n",
        "\n",
        "    prompt = PromptTemplate.from_template(prompt_template)\n",
        "    rag_chain = prompt | llm\n",
        "    response = rag_chain.invoke({\"context\":relevant_text,\"query\":query})\n",
        "    return response.content"
      ],
      "metadata": {
        "id": "Vr6filUSeN4x"
      },
      "execution_count": null,
      "outputs": []
    },
    {
      "cell_type": "code",
      "source": [
        "query = \"What is a transformer\"\n",
        "documents_folder_path = \"documents_folder\"\n",
        "\n",
        "answering_user_queries(documents_folder_path,query)"
      ],
      "metadata": {
        "colab": {
          "base_uri": "https://localhost:8080/",
          "height": 142
        },
        "id": "DYokeZzqep8S",
        "outputId": "d67866c2-2943-4a13-a255-abcb0669185b"
      },
      "execution_count": null,
      "outputs": [
        {
          "output_type": "stream",
          "name": "stderr",
          "text": [
            "<ipython-input-9-0c6b836f94a9>:4: LangChainDeprecationWarning: The method `BaseRetriever.get_relevant_documents` was deprecated in langchain-core 0.1.46 and will be removed in 1.0. Use :meth:`~invoke` instead.\n",
            "  relevant_text = retriever.get_relevant_documents(query)\n"
          ]
        },
        {
          "output_type": "execute_result",
          "data": {
            "text/plain": [
              "'A Transformer is a network architecture based solely on attention mechanisms, designed for sequence transduction tasks, that eliminates the need for recurrence and convolutions. It is known for its superior quality in machine translation and is more parallelizable and requires less training time compared to traditional models. (Source: Transformers Research Paper.pdf)'"
            ],
            "application/vnd.google.colaboratory.intrinsic+json": {
              "type": "string"
            }
          },
          "metadata": {},
          "execution_count": 11
        }
      ]
    },
    {
      "cell_type": "code",
      "source": [
        "def create_database_of_metadata(documents_folder_path,documents_folder_name):\n",
        "    documents = upload_documents(documents_folder_path)\n",
        "\n",
        "    # Connect to SQLite database (or create it)\n",
        "    conn = sqlite3.connect(\"documents_metadata.db\")\n",
        "    cursor = conn.cursor()\n",
        "\n",
        "    # Create table (if not exists)\n",
        "    cursor.execute(f'''\n",
        "    CREATE TABLE IF NOT EXISTS {documents_folder_name} (\n",
        "        id INTEGER PRIMARY KEY AUTOINCREMENT,\n",
        "        content TEXT,\n",
        "        metadata TEXT\n",
        "    )\n",
        "    ''')\n",
        "\n",
        "    # Insert data\n",
        "    for doc in documents:\n",
        "        cursor.execute(f\"INSERT INTO {documents_folder_name} (content, metadata) VALUES (?, ?)\",\n",
        "                       (doc.page_content, json.dumps(doc.metadata)))\n",
        "\n",
        "    # Commit and close\n",
        "    conn.commit()\n",
        "    conn.close()\n",
        "\n"
      ],
      "metadata": {
        "id": "Bh3DXbMUftK3"
      },
      "execution_count": null,
      "outputs": []
    },
    {
      "cell_type": "code",
      "source": [
        "create_database_of_metadata(\"documents_folder\",\"documents_folder\")"
      ],
      "metadata": {
        "id": "-rdDp7QVhUut"
      },
      "execution_count": null,
      "outputs": []
    },
    {
      "cell_type": "code",
      "source": [
        "conn = sqlite3.connect(\"documents_metadata.db\")\n",
        "cursor = conn.cursor()\n",
        "cursor.execute(\"select * from documents_folder\")\n",
        "rows = cursor.fetchall()\n",
        "conn.close()\n",
        "\n",
        "rows[0:5]"
      ],
      "metadata": {
        "colab": {
          "base_uri": "https://localhost:8080/"
        },
        "id": "FJ8i85NqhyVF",
        "outputId": "fd9c9ff9-8b23-440a-db8c-5d2d4a083ffa"
      },
      "execution_count": null,
      "outputs": [
        {
          "output_type": "execute_result",
          "data": {
            "text/plain": [
              "[(1,\n",
              "  'Provided proper attribution is provided, Google hereby grants permission to reproduce the tables and figures in this paper solely for use in journalistic or scholarly works. Attention Is All You Need Ashish Vaswani∗ Google Brain avaswani@google.comNoam Shazeer∗ Google Brain noam@google.comNiki Parmar∗ Google Research nikip@google.comJakob Uszkoreit∗ Google Research usz@google.com Llion Jones∗ Google Research llion@google.comAidan N. Gomez∗ † University of Toronto aidan@cs.toronto.eduŁukasz Kaiser∗ Google Brain lukaszkaiser@google.com Illia Polosukhin∗ ‡ illia.polosukhin@gmail.com Abstract The dominant sequence transduction models are based on complex recurrent or convolutional neural networks that include an encoder and a decoder. The best performing models also connect the encoder and decoder through an attention mechanism. We propose a new simple network architecture, the Transformer, based solely on attention mechanisms, dispensing with recurrence and convolutions entirely. Experiments on two machine translation tasks show these models to be superior in quality while being more parallelizable and requiring significantly less time to train. Our model achieves 28.4 BLEU on the WMT 2014 English- to-German translation task, improving over the existing best results, including ensembles, by over 2 BLEU. On the WMT 2014 English-to-French translation task, our model establishes a new single-model state-of-the-art BLEU score of 41.8 after training for 3.5 days on eight GPUs, a small fraction of the training costs of the best models from the literature. We show that the Transformer generalizes well to other tasks by applying it successfully to English constituency parsing both with large and limited training data. ∗Equal contribution.',\n",
              "  '{\"source\": \"Transformers Research Paper.pdf\"}'),\n",
              " (2,\n",
              "  'Listing order is random. Jakob proposed replacing RNNs with self-attention and started the effort to evaluate this idea. Ashish, with Illia, designed and implemented the first Transformer models and has been crucially involved in every aspect of this work. Noam proposed scaled dot-product attention, multi-head attention and the parameter-free position representation and became the other person involved in nearly every detail. Niki designed, implemented, tuned and evaluated countless model variants in our original codebase and tensor2tensor. Llion also experimented with novel model variants, was responsible for our initial codebase, and efficient inference and visualizations. Lukasz and Aidan spent countless long days designing various parts of and implementing tensor2tensor, replacing our earlier codebase, greatly improving results and massively accelerating our research. †Work performed while at Google Brain. ‡Work performed while at Google Research. 31st Conference on Neural Information Processing Systems (NIPS 2017), Long Beach, CA, USA.arXiv:1706.03762v7  [cs.CL]  2 Aug 2023',\n",
              "  '{\"source\": \"Transformers Research Paper.pdf\"}'),\n",
              " (3,\n",
              "  'Provided proper attribution is provided, Google hereby grants permission to reproduce the tables and figures in this paper solely for use in journalistic or scholarly works. Attention Is All You Need Ashish Vaswani∗ Google Brain avaswani@google.comNoam Shazeer∗ Google Brain noam@google.comNiki Parmar∗ Google Research nikip@google.comJakob Uszkoreit∗ Google Research usz@google.com Llion Jones∗ Google Research llion@google.comAidan N. Gomez∗ † University of Toronto aidan@cs.toronto.eduŁukasz Kaiser∗ Google Brain lukaszkaiser@google.com Illia Polosukhin∗ ‡ illia.polosukhin@gmail.com Abstract The dominant sequence transduction models are based on complex recurrent or convolutional neural networks that include an encoder and a decoder. The best performing models also connect the encoder and decoder through an attention mechanism. We propose a new simple network architecture, the Transformer, based solely on attention mechanisms, dispensing with recurrence and convolutions entirely. Experiments on two machine translation tasks show these models to be superior in quality while being more parallelizable and requiring significantly less time to train. Our model achieves 28.4 BLEU on the WMT 2014 English- to-German translation task, improving over the existing best results, including ensembles, by over 2 BLEU. On the WMT 2014 English-to-French translation task, our model establishes a new single-model state-of-the-art BLEU score of 41.8 after training for 3.5 days on eight GPUs, a small fraction of the training costs of the best models from the literature. We show that the Transformer generalizes well to other tasks by applying it successfully to English constituency parsing both with large and limited training data. ∗Equal contribution.',\n",
              "  '{\"source\": \"Transformers Research Paper.pdf\"}'),\n",
              " (4,\n",
              "  'Listing order is random. Jakob proposed replacing RNNs with self-attention and started the effort to evaluate this idea. Ashish, with Illia, designed and implemented the first Transformer models and has been crucially involved in every aspect of this work. Noam proposed scaled dot-product attention, multi-head attention and the parameter-free position representation and became the other person involved in nearly every detail. Niki designed, implemented, tuned and evaluated countless model variants in our original codebase and tensor2tensor. Llion also experimented with novel model variants, was responsible for our initial codebase, and efficient inference and visualizations. Lukasz and Aidan spent countless long days designing various parts of and implementing tensor2tensor, replacing our earlier codebase, greatly improving results and massively accelerating our research. †Work performed while at Google Brain.',\n",
              "  '{\"source\": \"Transformers Research Paper.pdf\"}'),\n",
              " (5,\n",
              "  '‡Work performed while at Google Research. 31st Conference on Neural Information Processing Systems (NIPS 2017), Long Beach, CA, USA.arXiv:1706.03762v7  [cs.CL]  2 Aug 20231 Introduction Recurrent neural networks, long short-term memory [ 13] and gated recurrent [ 7] neural networks in particular, have been firmly established as state of the art approaches in sequence modeling and transduction problems such as language modeling and machine translation [ 35,2,5]. Numerous efforts have since continued to push the boundaries of recurrent language models and encoder-decoder architectures [38, 24, 15].',\n",
              "  '{\"source\": \"Transformers Research Paper.pdf\"}')]"
            ]
          },
          "metadata": {},
          "execution_count": 14
        }
      ]
    }
  ]
}